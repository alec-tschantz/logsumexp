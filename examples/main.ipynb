{
 "cells": [
  {
   "cell_type": "code",
   "execution_count": 1,
   "metadata": {},
   "outputs": [],
   "source": [
    "import optax\n",
    "import equinox as eqx\n",
    "\n",
    "from jax import numpy as jnp, random as jr, nn\n",
    "\n",
    "from logsumexp import Hopfield, SlotAttention, solve, energy\n",
    "\n",
    "\n",
    "@eqx.filter_jit\n",
    "def train_step(edges, nodes, opt_state, optim):\n",
    "    nodes = solve(edges, nodes)\n",
    "    grads = eqx.filter_grad(lambda edge: energy(edge, nodes))(edges)\n",
    "    updates, opt_state = optim.update(grads, opt_state)\n",
    "    edges = eqx.apply_updates(edges, updates)\n",
    "    return edges, nodes, opt_state\n",
    "\n",
    "\n",
    "key = jr.PRNGKey(0)\n",
    "D, M, K, N = 4, 3, 10, 32\n",
    "\n",
    "x = jnp.zeros((N, D))\n",
    "z = jnp.zeros((K, D))\n",
    "m = jnp.zeros((M, D))\n",
    "\n",
    "nodes = {\"x\": x, \"z\": z, \"m\": m}\n",
    "edges = [(Hopfield(), [\"z\", \"m\"]), (SlotAttention(D, key), [\"x\", \"z\"])]\n",
    "\n",
    "optim = optax.adam(1e-3)\n",
    "opt_state = optim.init(eqx.filter(edges, eqx.is_array))\n",
    "\n",
    "edges, nodes, opt_state = train_step(edges, nodes, opt_state, optim)"
   ]
  }
 ],
 "metadata": {
  "kernelspec": {
   "display_name": "etjax",
   "language": "python",
   "name": "python3"
  },
  "language_info": {
   "codemirror_mode": {
    "name": "ipython",
    "version": 3
   },
   "file_extension": ".py",
   "mimetype": "text/x-python",
   "name": "python",
   "nbconvert_exporter": "python",
   "pygments_lexer": "ipython3",
   "version": "3.10.16"
  }
 },
 "nbformat": 4,
 "nbformat_minor": 2
}

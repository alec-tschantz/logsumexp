{
 "cells": [
  {
   "cell_type": "code",
   "execution_count": 1,
   "metadata": {},
   "outputs": [
    {
     "ename": "NameError",
     "evalue": "name 'Heun' is not defined",
     "output_type": "error",
     "traceback": [
      "\u001b[0;31m---------------------------------------------------------------------------\u001b[0m",
      "\u001b[0;31mNameError\u001b[0m                                 Traceback (most recent call last)",
      "Cell \u001b[0;32mIn[1], line 30\u001b[0m\n\u001b[1;32m     27\u001b[0m optim \u001b[38;5;241m=\u001b[39m optax\u001b[38;5;241m.\u001b[39madam(\u001b[38;5;241m1e-3\u001b[39m)\n\u001b[1;32m     28\u001b[0m opt_state \u001b[38;5;241m=\u001b[39m optim\u001b[38;5;241m.\u001b[39minit(eqx\u001b[38;5;241m.\u001b[39mfilter(edges, eqx\u001b[38;5;241m.\u001b[39mis_array))\n\u001b[0;32m---> 30\u001b[0m edges, nodes, opt_state \u001b[38;5;241m=\u001b[39m \u001b[43mtrain_step\u001b[49m\u001b[43m(\u001b[49m\u001b[43medges\u001b[49m\u001b[43m,\u001b[49m\u001b[43m \u001b[49m\u001b[43mnodes\u001b[49m\u001b[43m,\u001b[49m\u001b[43m \u001b[49m\u001b[43mopt_state\u001b[49m\u001b[43m,\u001b[49m\u001b[43m \u001b[49m\u001b[43moptim\u001b[49m\u001b[43m)\u001b[49m\n",
      "Cell \u001b[0;32mIn[1], line 10\u001b[0m, in \u001b[0;36mtrain_step\u001b[0;34m(edges, nodes, opt_state, optim)\u001b[0m\n\u001b[1;32m      9\u001b[0m \u001b[38;5;28;01mdef\u001b[39;00m\u001b[38;5;250m \u001b[39m\u001b[38;5;21mtrain_step\u001b[39m(edges, nodes, opt_state, optim):\n\u001b[0;32m---> 10\u001b[0m     nodes \u001b[38;5;241m=\u001b[39m \u001b[43msolve_nodes\u001b[49m\u001b[43m(\u001b[49m\u001b[43medges\u001b[49m\u001b[43m,\u001b[49m\u001b[43m \u001b[49m\u001b[43mnodes\u001b[49m\u001b[43m)\u001b[49m\n\u001b[1;32m     11\u001b[0m     grads \u001b[38;5;241m=\u001b[39m eqx\u001b[38;5;241m.\u001b[39mfilter_grad(\u001b[38;5;28;01mlambda\u001b[39;00m e: energy(e, nodes))(edges)\n\u001b[1;32m     12\u001b[0m     updates, opt_state \u001b[38;5;241m=\u001b[39m optim\u001b[38;5;241m.\u001b[39mupdate(grads, opt_state)\n",
      "File \u001b[0;32m~/repos/logsumexp/logsumexp/solver.py:21\u001b[0m, in \u001b[0;36msolve_nodes\u001b[0;34m(edges, nodes)\u001b[0m\n\u001b[1;32m     14\u001b[0m     grads \u001b[38;5;241m=\u001b[39m grad(\u001b[38;5;28;01mlambda\u001b[39;00m n: energy(edges, n))(nodes)\n\u001b[1;32m     15\u001b[0m     \u001b[38;5;28;01mreturn\u001b[39;00m tree_map(\u001b[38;5;28;01mlambda\u001b[39;00m g: \u001b[38;5;241m-\u001b[39mg, tree_flatten(grads)[\u001b[38;5;241m0\u001b[39m])\n\u001b[1;32m     17\u001b[0m kwargs \u001b[38;5;241m=\u001b[39m {\n\u001b[1;32m     18\u001b[0m     \u001b[38;5;124m\"\u001b[39m\u001b[38;5;124mt0\u001b[39m\u001b[38;5;124m\"\u001b[39m: \u001b[38;5;241m0\u001b[39m,\n\u001b[1;32m     19\u001b[0m     \u001b[38;5;124m\"\u001b[39m\u001b[38;5;124mt1\u001b[39m\u001b[38;5;124m\"\u001b[39m: \u001b[38;5;241m20\u001b[39m,\n\u001b[1;32m     20\u001b[0m     \u001b[38;5;124m\"\u001b[39m\u001b[38;5;124mdt0\u001b[39m\u001b[38;5;124m\"\u001b[39m: \u001b[38;5;28;01mNone\u001b[39;00m,\n\u001b[0;32m---> 21\u001b[0m     \u001b[38;5;124m\"\u001b[39m\u001b[38;5;124msolver\u001b[39m\u001b[38;5;124m\"\u001b[39m: \u001b[43mHeun\u001b[49m(),\n\u001b[1;32m     22\u001b[0m     \u001b[38;5;124m\"\u001b[39m\u001b[38;5;124mterms\u001b[39m\u001b[38;5;124m\"\u001b[39m: ODETerm(_ode_term),\n\u001b[1;32m     23\u001b[0m     \u001b[38;5;124m\"\u001b[39m\u001b[38;5;124mstepsize_controller\u001b[39m\u001b[38;5;124m\"\u001b[39m: PIDController(rtol\u001b[38;5;241m=\u001b[39m\u001b[38;5;241m1e-3\u001b[39m, atol\u001b[38;5;241m=\u001b[39m\u001b[38;5;241m1e-3\u001b[39m),\n\u001b[1;32m     24\u001b[0m }\n\u001b[1;32m     25\u001b[0m solution \u001b[38;5;241m=\u001b[39m diffeqsolve(y0\u001b[38;5;241m=\u001b[39mflat_nodes, args\u001b[38;5;241m=\u001b[39medges, \u001b[38;5;241m*\u001b[39m\u001b[38;5;241m*\u001b[39mkwargs)\n\u001b[1;32m     26\u001b[0m solution \u001b[38;5;241m=\u001b[39m tree_map(\u001b[38;5;28;01mlambda\u001b[39;00m y: y[\u001b[38;5;241m-\u001b[39m\u001b[38;5;241m1\u001b[39m], solution\u001b[38;5;241m.\u001b[39mys)\n",
      "\u001b[0;31mNameError\u001b[0m: name 'Heun' is not defined"
     ]
    }
   ],
   "source": [
    "import optax\n",
    "import equinox as eqx\n",
    "\n",
    "from jax import numpy as jnp, random as jr, nn\n",
    "\n",
    "from logsumexp import Hopfield, SlotAttention, solve_nodes, energy\n",
    "\n",
    "\n",
    "def train_step(edges, nodes, opt_state, optim):\n",
    "    nodes = solve_nodes(edges, nodes)\n",
    "    grads = eqx.filter_grad(lambda e: energy(e, nodes))(edges)\n",
    "    updates, opt_state = optim.update(grads, opt_state)\n",
    "    edges = eqx.apply_updates(edges, updates)\n",
    "    return edges, nodes, opt_state\n",
    "\n",
    "\n",
    "key = jr.PRNGKey(0)\n",
    "D, M, K, N = 4, 3, 10, 32\n",
    "\n",
    "x = jnp.zeros((N, D))\n",
    "z = jnp.zeros((K, D))\n",
    "m = jnp.zeros((M, D))\n",
    "\n",
    "nodes = {\"x\": x, \"z\": z, \"m\": m}\n",
    "edges = [(Hopfield(), [\"z\", \"m\"]), (SlotAttention(D, key), [\"x\", \"z\"])]\n",
    "\n",
    "optim = optax.adam(1e-3)\n",
    "opt_state = optim.init(eqx.filter(edges, eqx.is_array))\n",
    "\n",
    "edges, nodes, opt_state = train_step(edges, nodes, opt_state, optim)"
   ]
  }
 ],
 "metadata": {
  "kernelspec": {
   "display_name": "etjax",
   "language": "python",
   "name": "python3"
  },
  "language_info": {
   "codemirror_mode": {
    "name": "ipython",
    "version": 3
   },
   "file_extension": ".py",
   "mimetype": "text/x-python",
   "name": "python",
   "nbconvert_exporter": "python",
   "pygments_lexer": "ipython3",
   "version": "3.10.16"
  }
 },
 "nbformat": 4,
 "nbformat_minor": 2
}
